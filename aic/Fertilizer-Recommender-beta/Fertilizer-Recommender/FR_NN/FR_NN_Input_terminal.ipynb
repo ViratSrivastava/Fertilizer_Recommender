{
 "cells": [
  {
   "cell_type": "code",
   "execution_count": 20,
   "metadata": {},
   "outputs": [],
   "source": [
    "import pandas as pd\n",
    "import numpy as np\n",
    "from sklearn.preprocessing import LabelEncoder\n",
    "import tensorflow as tf\n",
    "from tensorflow import keras\n",
    "from tensorflow.keras.models import load_model"
   ]
  },
  {
   "cell_type": "code",
   "execution_count": 31,
   "metadata": {},
   "outputs": [],
   "source": [
    "model = keras.models.load_model('FR_model.h5')"
   ]
  },
  {
   "cell_type": "code",
   "execution_count": 35,
   "metadata": {},
   "outputs": [
    {
     "name": "stdout",
     "output_type": "stream",
     "text": [
      "Enter the following values for prediction:\n"
     ]
    }
   ],
   "source": [
    "print(\"Enter the following values for prediction:\")\n",
    "temperature = float(input(\"Temperature: \"))\n",
    "humidity = float(input(\"Humidity: \"))\n",
    "moisture = float(input(\"Moisture: \"))\n",
    "soil_type_encoded = int(input(\"Soil Type (0 for Sandy, 1 for Red, 2 for Loamy, 3 for Clayey, 4 for Black): \"))\n",
    "crop_type_encoded = int(input(\"Crop Type (0 for Barley, 1 for Cotton, 2 for Ground Nuts, 3 for Maize, 4 for Millets, 5 for Oil seeds, 6 for Paddy, 7 for Pulses, 8 for Sugarcane, 9 for Tobacco, 10 for Wheat): \"))\n",
    "nitrogen = float(input(\"Nitrogen: \"))\n",
    "potassium = float(input(\"Potassium: \"))\n",
    "phosphorous = float(input(\"Phosphorous: \"))"
   ]
  },
  {
   "cell_type": "code",
   "execution_count": 36,
   "metadata": {},
   "outputs": [],
   "source": [
    "# Create a function to input your own values and get a prediction\n",
    "def predict_fertilizer(temperature, humidity, moisture, soil_type_encoded, crop_type_encoded, nitrogen, potassium, phosphorous):\n",
    "    # Create a DataFrame with the input values\n",
    "    input_data = pd.DataFrame({\n",
    "        'Temparature': [temperature],\n",
    "        'Humidity ': [humidity],\n",
    "        'Moisture': [moisture],\n",
    "        'Soil Type Encoded': [soil_type_encoded],\n",
    "        'Crop Type Encoded': [crop_type_encoded],\n",
    "        'Nitrogen': [nitrogen],\n",
    "        'Potassium': [potassium],\n",
    "        'Phosphorous': [phosphorous]\n",
    "    })\n",
    "    # Predict the fertilizer recommendation\n",
    "    predicted_fertilizer_encoded = model.predict(input_data)\n",
    "    rounded_prediction = int(np.round(predicted_fertilizer_encoded[0]))\n",
    "    \n",
    "    return rounded_prediction"
   ]
  },
  {
   "cell_type": "code",
   "execution_count": 37,
   "metadata": {},
   "outputs": [
    {
     "name": "stdout",
     "output_type": "stream",
     "text": [
      "1/1 [==============================] - 0s 19ms/step\n",
      "predicted_fertilizer = 10-26-26\n"
     ]
    }
   ],
   "source": [
    "predicted_fertilizer_Encoded = predict_fertilizer(temperature, humidity, moisture, soil_type_encoded, crop_type_encoded, nitrogen, potassium, phosphorous)\n",
    "if predicted_fertilizer_Encoded ==0:\n",
    "    print(\"predicted_fertilizer = 10-26-26\")\n",
    "elif predicted_fertilizer_Encoded ==1:\n",
    "    print(\"predicted_fertilizer = 14-35-14\")\n",
    "elif predicted_fertilizer_Encoded ==2:\n",
    "    print(\"predicted_fertilizer = 17-17-17\")\n",
    "elif predicted_fertilizer_Encoded ==3:\n",
    "    print(\"predicted_fertilizer = 20-20\")\n",
    "elif predicted_fertilizer_Encoded ==4:\n",
    "    print(\"predicted_fertilizer = 28-28\")\n",
    "elif predicted_fertilizer_Encoded ==5:\n",
    "    print(\"predicted_fertilizer = DAP\")\n",
    "elif predicted_fertilizer_Encoded == 6:\n",
    "    print(\"predicted_fertilizer = Urea\")\n",
    "else:\n",
    "    print(\"error\")"
   ]
  }
 ],
 "metadata": {
  "kernelspec": {
   "display_name": "base",
   "language": "python",
   "name": "python3"
  },
  "language_info": {
   "codemirror_mode": {
    "name": "ipython",
    "version": 3
   },
   "file_extension": ".py",
   "mimetype": "text/x-python",
   "name": "python",
   "nbconvert_exporter": "python",
   "pygments_lexer": "ipython3",
   "version": "3.9.13"
  },
  "orig_nbformat": 4
 },
 "nbformat": 4,
 "nbformat_minor": 2
}
