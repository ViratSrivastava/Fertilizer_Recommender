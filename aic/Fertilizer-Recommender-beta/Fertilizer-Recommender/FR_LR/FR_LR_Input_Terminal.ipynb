{
 "cells": [
  {
   "cell_type": "code",
   "execution_count": 1,
   "metadata": {},
   "outputs": [],
   "source": [
    "import pandas as pd\n",
    "import numpy as np\n",
    "import pickle"
   ]
  },
  {
   "cell_type": "code",
   "execution_count": 2,
   "metadata": {},
   "outputs": [],
   "source": [
    "# Load the trained Linear Regression model\n",
    "with open('linear_regression_model.pkl', 'rb') as file:\n",
    "    loaded_model = pickle.load(file)"
   ]
  },
  {
   "cell_type": "code",
   "execution_count": 3,
   "metadata": {},
   "outputs": [],
   "source": [
    "def get_user_input():\n",
    "    input_values = []\n",
    "    print(\"Enter the following values for prediction:\")\n",
    "    input_values.append(int(input(\"Temperature: \")))\n",
    "    input_values.append(int(input(\"Humidity: \")))\n",
    "    input_values.append(int(input(\"Moisture: \")))\n",
    "    input_values.append(int(input(\"Soil Type (0 for Sandy, 1 for Red, 2 for Loamy, 3 for Clayey, 4 for Black): \")))\n",
    "    input_values.append(int(input(\"Crop Type (0 for Barley, 1 for Cotton, 2 for Ground Nuts, 3 for Maize, 4 for Millets, 5 for Oil seeds, 6 for Paddy, 7 for Pulses, 8 for Sugarcane, 9 for Tobacco, 10 for Wheat): \")))\n",
    "    input_values.append(int(input(\"Nitrogen: \")))\n",
    "    input_values.append(int(input(\"Potassium: \")))\n",
    "    input_values.append(int(input(\"Phosphorous: \")))\n",
    "\n",
    "    return input_values"
   ]
  },
  {
   "cell_type": "code",
   "execution_count": 4,
   "metadata": {},
   "outputs": [
    {
     "name": "stdout",
     "output_type": "stream",
     "text": [
      "Enter the following values for prediction:\n"
     ]
    }
   ],
   "source": [
    "# Get user input\n",
    "user_input = get_user_input()"
   ]
  },
  {
   "cell_type": "code",
   "execution_count": 5,
   "metadata": {},
   "outputs": [],
   "source": [
    "# Convert user input to 2D input. This makes it a single-row DataFrame.\n",
    "input_columns = ['Temparature', 'Humidity ', 'Moisture', 'Soil Type Encoded', 'Crop Type Encoded', 'Nitrogen', 'Potassium', 'Phosphorous']\n",
    "single_input = pd.DataFrame([user_input],columns=input_columns)"
   ]
  },
  {
   "cell_type": "code",
   "execution_count": 6,
   "metadata": {},
   "outputs": [
    {
     "name": "stdout",
     "output_type": "stream",
     "text": [
      "[24, 49, 39, 3, 7, 5, 18, 15]\n"
     ]
    }
   ],
   "source": [
    "print(user_input)"
   ]
  },
  {
   "cell_type": "code",
   "execution_count": 7,
   "metadata": {},
   "outputs": [],
   "source": [
    "predicted_fertilizer_encoded = loaded_model.predict(single_input)\n",
    "rounded_prediction = int(np.round(predicted_fertilizer_encoded[0]))"
   ]
  },
  {
   "cell_type": "code",
   "execution_count": 8,
   "metadata": {},
   "outputs": [
    {
     "name": "stdout",
     "output_type": "stream",
     "text": [
      "-1\n"
     ]
    }
   ],
   "source": [
    "print(rounded_prediction)"
   ]
  },
  {
   "cell_type": "code",
   "execution_count": 9,
   "metadata": {},
   "outputs": [
    {
     "name": "stdout",
     "output_type": "stream",
     "text": [
      "error\n"
     ]
    }
   ],
   "source": [
    "if rounded_prediction ==0:\n",
    "    print(\"predicted_fertilizer = 10-26-26\")\n",
    "elif rounded_prediction ==1:\n",
    "    print(\"predicted_fertilizer = 14-35-14\")\n",
    "elif rounded_prediction ==2:\n",
    "    print(\"predicted_fertilizer = 17-17-17\")\n",
    "elif rounded_prediction ==3:\n",
    "    print(\"predicted_fertilizer = 20-20\")\n",
    "elif rounded_prediction ==4:\n",
    "    print(\"predicted_fertilizer = 28-28\")\n",
    "elif rounded_prediction ==5:\n",
    "    print(\"predicted_fertilizer = DAP\")\n",
    "elif rounded_prediction == 6:\n",
    "    print(\"predicted_fertilizer = Urea\")\n",
    "else:\n",
    "    print(\"error\")"
   ]
  },
  {
   "cell_type": "code",
   "execution_count": null,
   "metadata": {},
   "outputs": [],
   "source": []
  }
 ],
 "metadata": {
  "kernelspec": {
   "display_name": "base",
   "language": "python",
   "name": "python3"
  },
  "language_info": {
   "codemirror_mode": {
    "name": "ipython",
    "version": 3
   },
   "file_extension": ".py",
   "mimetype": "text/x-python",
   "name": "python",
   "nbconvert_exporter": "python",
   "pygments_lexer": "ipython3",
   "version": "3.9.13"
  },
  "orig_nbformat": 4
 },
 "nbformat": 4,
 "nbformat_minor": 2
}
